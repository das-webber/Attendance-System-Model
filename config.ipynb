{
 "cells": [
  {
   "cell_type": "code",
   "execution_count": null,
   "id": "67c50dd9",
   "metadata": {},
   "outputs": [],
   "source": [
    "from pathlib import Path\n",
    "\n",
    "# Dataset directory\n",
    "DATA_DIR = Path(\"data/faces_dataset\")\n",
    "\n",
    "# Model save directory\n",
    "MODELS_DIR = Path(\"models\")\n",
    "FACE_ID_MODEL = MODELS_DIR / \"face_id_svc.joblib\"\n",
    "LABEL_ENCODER = MODELS_DIR / \"label_encoder.joblib\"\n",
    "\n",
    "# Attendance log\n",
    "ATTENDANCE_FILE = Path(\"attendance_log.csv\")\n",
    "\n",
    "# Attendance timing window\n",
    "START_TIME = \"09:30\"\n",
    "END_TIME = \"10:00\"\n"
   ]
  }
 ],
 "metadata": {
  "language_info": {
   "name": "python"
  }
 },
 "nbformat": 4,
 "nbformat_minor": 5
}
